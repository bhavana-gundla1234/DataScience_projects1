import pandas as pd
import matplotlib.pyplot as plt
import seaborn as sns

# Load the Hackathon_working_data dataset
dataset_path = 'Hackathon_Working_Data.csv'
df = pd.read_csv(dataset_path)

# Display basic information about the dataset
print("Dataset Information:")
print(df.info())
# Display descriptive statistics of numerical columns
print("\nDescriptive Statistics:")
print(df.describe())
# Explore the distribution of TransactionAmount
plt.figure(figsize=(12, 6))
sns.histplot(df['BILL_AMT'], bins=30, kde=True)
plt.title('Distribution of Transaction Amount')
plt.xlabel('Transaction Amount')
plt.ylabel('Frequency')
plt.show()
# Analyze total transaction amount per customer
total_transaction_per_customer = df.groupby('BILL_ID')['BILL_AMT'].sum().reset_index()
# Analyze the number of transactions per customer
num_transactions_per_customer = df.groupby('BILL_ID')['BILL_AMT'].count().reset_index()
num_transactions_per_customer.rename(columns={'BILL_AMT': 'NumTransactions'}, inplace=True)
# Merge the two dataframes
customer_data = pd.merge(total_transaction_per_customer, num_transactions_per_customer, on='BILL_ID')
plt.ylabel('Value')
# Display customer behavior data
print("\nCustomer Behavior Data:")
print(customer_data.head())
# Visualize customer behavior
plt.figure(figsize=(12, 6))
plt.bar(customer_data['BILL_ID'], customer_data['BILL_AMT'], color='blue', label='Total Amount')
plt.bar(customer_data['BILL_ID'], customer_data['NumTransactions'], color='orange', label='Num Transactions', alpha=0.7)
plt.xlabel('BILL_ID')
plt.ylabel('Value')
plt.title('Customer Behavior Analysis')
plt.legend()
plt.show()
