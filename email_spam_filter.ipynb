{
  "nbformat": 4,
  "nbformat_minor": 0,
  "metadata": {
    "colab": {
      "provenance": []
    },
    "kernelspec": {
      "name": "python3",
      "display_name": "Python 3"
    },
    "language_info": {
      "name": "python"
    }
  },
  "cells": [
    {
      "cell_type": "code",
      "source": [
        "import pandas as pd\n",
        "from sklearn.model_selection import train_test_split\n",
        "from sklearn.feature_extraction.text import CountVectorizer\n",
        "from sklearn.naive_bayes import MultinomialNB\n",
        "from sklearn.metrics import accuracy_score, classification_report, confusion_matrix\n",
        "from sklearn.pipeline import make_pipeline\n",
        "\n",
        "# Assuming you have a CSV file with 'text' column and 'spam' column indicating spam or ham\n",
        "def read_email_data(file_path):\n",
        "    df = pd.read_csv(file_path)\n",
        "    return df\n",
        "\n",
        "def train_spam_filter(data_frame):\n",
        "    # Split the data into training and testing sets\n",
        "    X_train, X_test, y_train, y_test = train_test_split(\n",
        "        data_frame['text'], data_frame['spam'], test_size=0.2, random_state=42\n",
        "    )\n",
        "\n",
        "    # Create a pipeline with a CountVectorizer and a Multinomial Naive Bayes classifier\n",
        "    model = make_pipeline(CountVectorizer(), MultinomialNB())\n",
        "\n",
        "    # Train the model\n",
        "    model.fit(X_train, y_train)\n",
        "\n",
        "    # Make predictions on the test set\n",
        "    y_pred = model.predict(X_test)\n",
        "\n",
        "    # Evaluate the model\n",
        "    accuracy = accuracy_score(y_test, y_pred)\n",
        "    print(f'Accuracy: {accuracy:.2%}')\n",
        "\n",
        "    print(\"\\nClassification Report:\")\n",
        "    print(classification_report(y_test, y_pred))\n",
        "\n",
        "    print(\"\\nConfusion Matrix:\")\n",
        "    print(confusion_matrix(y_test, y_pred))\n",
        "\n",
        "    return model\n",
        "\n",
        "def predict_single_email(model, email_text):\n",
        "    # Make a prediction for a single email\n",
        "    prediction = model.predict([email_text])\n",
        "    return prediction[0]\n",
        "\n",
        "def main():\n",
        "\n",
        "    file_path = 'emails.csv'\n",
        "\n",
        "    # Read the email data\n",
        "    email_data = read_email_data(file_path)\n",
        "\n",
        "    # Train the spam filter\n",
        "    spam_filter_model = train_spam_filter(email_data)\n",
        "\n",
        "    # Example of predicting a single email\n",
        "    example_email_text = \"Congratulations! You've won a free vacation. Click here to claim your prize.\"\n",
        "    prediction = predict_single_email(spam_filter_model, example_email_text)\n",
        "\n",
        "    if prediction == 'spam':\n",
        "        print(\"This email is classified as spam.\")\n",
        "    else:\n",
        "        print(\"This email is classified as ham.\")\n",
        "\n",
        "if __name__ == \"__main__\":\n",
        "    main()\n"
      ],
      "metadata": {
        "colab": {
          "base_uri": "https://localhost:8080/"
        },
        "id": "e_tx5hjjGdpI",
        "outputId": "7d3d6b4b-2c14-4cad-a120-c6ecee1ead67"
      },
      "execution_count": null,
      "outputs": [
        {
          "output_type": "stream",
          "name": "stdout",
          "text": [
            "Accuracy: 98.78%\n",
            "\n",
            "Classification Report:\n",
            "              precision    recall  f1-score   support\n",
            "\n",
            "           0       0.99      0.99      0.99       856\n",
            "           1       0.98      0.97      0.98       290\n",
            "\n",
            "    accuracy                           0.99      1146\n",
            "   macro avg       0.98      0.98      0.98      1146\n",
            "weighted avg       0.99      0.99      0.99      1146\n",
            "\n",
            "\n",
            "Confusion Matrix:\n",
            "[[850   6]\n",
            " [  8 282]]\n",
            "This email is classified as ham.\n"
          ]
        }
      ]
    }
  ]
}